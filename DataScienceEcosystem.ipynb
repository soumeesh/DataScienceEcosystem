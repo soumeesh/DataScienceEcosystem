{
 "cells": [
  {
   "cell_type": "markdown",
   "id": "79b58596-5796-422e-8c05-89c615607d5f",
   "metadata": {},
   "source": [
    "<h1>Data Science Tools and Ecosystem</h1>"
   ]
  },
  {
   "cell_type": "markdown",
   "id": "9108ad99-0f97-4d61-9f4c-3dde558df180",
   "metadata": {},
   "source": [
    "In this notebook, Data Science Tools and Ecosystem are summarized."
   ]
  },
  {
   "cell_type": "markdown",
   "id": "376e2676-422b-4606-9bef-03b2b1db4c74",
   "metadata": {},
   "source": [
    "Some of the popular languages that Data Scientists use are:\n",
    "<ol>\n",
    "    <li>Python</li>\n",
    "    <li>R</li>\n",
    "    <li>Scala</li>\n",
    "</ol>"
   ]
  },
  {
   "cell_type": "markdown",
   "id": "672e04bc-4099-417f-91bf-8bae7ff41ec1",
   "metadata": {},
   "source": [
    "Some of the commonly used libraries used by Data Scientists include:\n",
    "<ol>\n",
    "    <li>Numpy</li>\n",
    "    <li>Scipy</li>\n",
    "    <li>Pandas</li>\n",
    "</ol>"
   ]
  },
  {
   "cell_type": "markdown",
   "id": "35a946fe-b0b6-49d3-a74f-240fa07461af",
   "metadata": {},
   "source": [
    "<table>\n",
    "    <tr>\n",
    "    <td>Data Science Tools</td>\n",
    "  </tr>\n",
    "    <tr>\n",
    "    <td>RStudio</td>\n",
    "  </tr>\n",
    "    <tr>\n",
    "    <td>Apache Spark</td>\n",
    "  </tr>\n",
    "    <tr>\n",
    "    <td>TensorFlow</td>\n",
    "  </tr>"
   ]
  },
  {
   "cell_type": "markdown",
   "id": "d1c6c699-11b6-4f10-99b0-14c23a8d7c96",
   "metadata": {},
   "source": [
    "<h3>Below are a few examples of evaluating arithmetic expressions in Python</h3>"
   ]
  },
  {
   "cell_type": "code",
   "execution_count": 2,
   "id": "e400c1a7-c8db-473c-b8ce-25b99b732a79",
   "metadata": {
    "tags": []
   },
   "outputs": [
    {
     "data": {
      "text/plain": [
       "17"
      ]
     },
     "execution_count": 2,
     "metadata": {},
     "output_type": "execute_result"
    }
   ],
   "source": [
    "#This a simple arithmetic expression to mutiply then add integers\n",
    "(3*4)+5"
   ]
  },
  {
   "cell_type": "code",
   "execution_count": 3,
   "id": "bded564f-0a44-4e6c-bc7c-fa0c9d148f71",
   "metadata": {
    "tags": []
   },
   "outputs": [
    {
     "data": {
      "text/plain": [
       "3.3333333333333335"
      ]
     },
     "execution_count": 3,
     "metadata": {},
     "output_type": "execute_result"
    }
   ],
   "source": [
    "#This will convert 200 minutes to hours by diving by 60\n",
    "\n",
    "200/60"
   ]
  },
  {
   "cell_type": "markdown",
   "id": "6b9c1b8e-39c3-40e9-bd6b-d491ce384bbb",
   "metadata": {},
   "source": [
    "<b>Objectives:</b>\n",
    "<ol>\n",
    "    <li>List popular languages for Data Science</li>\n",
    "    <li>List commonly used libraries used by Data Scientists</li>\n",
    "    <li>List popular Data Science Tools</li>\n",
    "</ol>"
   ]
  },
  {
   "cell_type": "markdown",
   "id": "105e3a22-90b7-4528-8808-17c32af8f2ff",
   "metadata": {},
   "source": [
    "<h2>Author</h2><br>\n",
    "Soumesh Mondal"
   ]
  },
  {
   "cell_type": "code",
   "execution_count": null,
   "id": "8c6f4bb4-dc87-47e9-90f3-d397b6f2b332",
   "metadata": {},
   "outputs": [],
   "source": []
  }
 ],
 "metadata": {
  "kernelspec": {
   "display_name": "Python",
   "language": "python",
   "name": "conda-env-python-py"
  },
  "language_info": {
   "codemirror_mode": {
    "name": "ipython",
    "version": 3
   },
   "file_extension": ".py",
   "mimetype": "text/x-python",
   "name": "python",
   "nbconvert_exporter": "python",
   "pygments_lexer": "ipython3",
   "version": "3.7.12"
  }
 },
 "nbformat": 4,
 "nbformat_minor": 5
}
